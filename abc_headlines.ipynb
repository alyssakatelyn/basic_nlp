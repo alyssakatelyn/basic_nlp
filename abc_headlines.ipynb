{
 "cells": [
  {
   "cell_type": "code",
   "execution_count": 1,
   "metadata": {},
   "outputs": [],
   "source": [
    "data = pd.read_csv('abcnews-date-text.csv', error_bad_lines=False)\n",
    "data_text = data[['headline_text']]\n",
    "data_text['index'] = data_text.index\n",
    "documents = data_text"
   ]
  },
  {
   "cell_type": "code",
   "execution_count": 2,
   "metadata": {},
   "outputs": [
    {
     "name": "stdout",
     "output_type": "stream",
     "text": [
      "1186018\n",
      "                                       headline_text  index\n",
      "0  aba decides against community broadcasting lic...      0\n",
      "1     act fire witnesses must be aware of defamation      1\n",
      "2     a g calls for infrastructure protection summit      2\n",
      "3           air nz staff in aust strike for pay rise      3\n",
      "4      air nz strike to affect australian travellers      4\n"
     ]
    }
   ],
   "source": [
    "print(len(documents))\n",
    "print(documents[:5])"
   ]
  },
  {
   "cell_type": "code",
   "execution_count": 3,
   "metadata": {},
   "outputs": [
    {
     "name": "stderr",
     "output_type": "stream",
     "text": [
      "[nltk_data] Downloading package wordnet to /Users/alyssa/nltk_data...\n",
      "[nltk_data]   Package wordnet is already up-to-date!\n"
     ]
    },
    {
     "data": {
      "text/plain": [
       "True"
      ]
     },
     "execution_count": 3,
     "metadata": {},
     "output_type": "execute_result"
    }
   ],
   "source": [
    "import gensim\n",
    "from gensim.utils import simple_preprocess\n",
    "from gensim.parsing.preprocessing import STOPWORDS\n",
    "from nltk.stem import WordNetLemmatizer, SnowballStemmer\n",
    "from nltk.stem.porter import *\n",
    "import numpy as np\n",
    "np.random.seed(2018)\n",
    "import nltk\n",
    "nltk.download('wordnet')"
   ]
  },
  {
   "cell_type": "code",
   "execution_count": 6,
   "metadata": {},
   "outputs": [
    {
     "data": {
      "text/html": [
       "<div>\n",
       "<style scoped>\n",
       "    .dataframe tbody tr th:only-of-type {\n",
       "        vertical-align: middle;\n",
       "    }\n",
       "\n",
       "    .dataframe tbody tr th {\n",
       "        vertical-align: top;\n",
       "    }\n",
       "\n",
       "    .dataframe thead th {\n",
       "        text-align: right;\n",
       "    }\n",
       "</style>\n",
       "<table border=\"1\" class=\"dataframe\">\n",
       "  <thead>\n",
       "    <tr style=\"text-align: right;\">\n",
       "      <th></th>\n",
       "      <th>original word</th>\n",
       "      <th>stemmed</th>\n",
       "    </tr>\n",
       "  </thead>\n",
       "  <tbody>\n",
       "    <tr>\n",
       "      <th>0</th>\n",
       "      <td>caresses</td>\n",
       "      <td>caress</td>\n",
       "    </tr>\n",
       "    <tr>\n",
       "      <th>1</th>\n",
       "      <td>flies</td>\n",
       "      <td>fli</td>\n",
       "    </tr>\n",
       "    <tr>\n",
       "      <th>2</th>\n",
       "      <td>dies</td>\n",
       "      <td>die</td>\n",
       "    </tr>\n",
       "    <tr>\n",
       "      <th>3</th>\n",
       "      <td>mules</td>\n",
       "      <td>mule</td>\n",
       "    </tr>\n",
       "    <tr>\n",
       "      <th>4</th>\n",
       "      <td>denied</td>\n",
       "      <td>deni</td>\n",
       "    </tr>\n",
       "    <tr>\n",
       "      <th>5</th>\n",
       "      <td>died</td>\n",
       "      <td>die</td>\n",
       "    </tr>\n",
       "    <tr>\n",
       "      <th>6</th>\n",
       "      <td>agreed</td>\n",
       "      <td>agre</td>\n",
       "    </tr>\n",
       "    <tr>\n",
       "      <th>7</th>\n",
       "      <td>owned</td>\n",
       "      <td>own</td>\n",
       "    </tr>\n",
       "    <tr>\n",
       "      <th>8</th>\n",
       "      <td>humbled</td>\n",
       "      <td>humbl</td>\n",
       "    </tr>\n",
       "    <tr>\n",
       "      <th>9</th>\n",
       "      <td>sized</td>\n",
       "      <td>size</td>\n",
       "    </tr>\n",
       "    <tr>\n",
       "      <th>10</th>\n",
       "      <td>meeting</td>\n",
       "      <td>meet</td>\n",
       "    </tr>\n",
       "    <tr>\n",
       "      <th>11</th>\n",
       "      <td>stating</td>\n",
       "      <td>state</td>\n",
       "    </tr>\n",
       "    <tr>\n",
       "      <th>12</th>\n",
       "      <td>siezing</td>\n",
       "      <td>siez</td>\n",
       "    </tr>\n",
       "    <tr>\n",
       "      <th>13</th>\n",
       "      <td>itemization</td>\n",
       "      <td>item</td>\n",
       "    </tr>\n",
       "    <tr>\n",
       "      <th>14</th>\n",
       "      <td>sensational</td>\n",
       "      <td>sensat</td>\n",
       "    </tr>\n",
       "    <tr>\n",
       "      <th>15</th>\n",
       "      <td>traditional</td>\n",
       "      <td>tradit</td>\n",
       "    </tr>\n",
       "    <tr>\n",
       "      <th>16</th>\n",
       "      <td>reference</td>\n",
       "      <td>refer</td>\n",
       "    </tr>\n",
       "    <tr>\n",
       "      <th>17</th>\n",
       "      <td>colonizer</td>\n",
       "      <td>colon</td>\n",
       "    </tr>\n",
       "    <tr>\n",
       "      <th>18</th>\n",
       "      <td>plotted</td>\n",
       "      <td>plot</td>\n",
       "    </tr>\n",
       "  </tbody>\n",
       "</table>\n",
       "</div>"
      ],
      "text/plain": [
       "   original word stemmed\n",
       "0       caresses  caress\n",
       "1          flies     fli\n",
       "2           dies     die\n",
       "3          mules    mule\n",
       "4         denied    deni\n",
       "5           died     die\n",
       "6         agreed    agre\n",
       "7          owned     own\n",
       "8        humbled   humbl\n",
       "9          sized    size\n",
       "10       meeting    meet\n",
       "11       stating   state\n",
       "12       siezing    siez\n",
       "13   itemization    item\n",
       "14   sensational  sensat\n",
       "15   traditional  tradit\n",
       "16     reference   refer\n",
       "17     colonizer   colon\n",
       "18       plotted    plot"
      ]
     },
     "execution_count": 6,
     "metadata": {},
     "output_type": "execute_result"
    }
   ],
   "source": [
    "stemmer = SnowballStemmer('english')\n",
    "original_words = ['caresses', 'flies', 'dies', 'mules', 'denied','died', 'agreed', 'owned', \n",
    "           'humbled', 'sized','meeting', 'stating', 'siezing', 'itemization','sensational', \n",
    "           'traditional', 'reference', 'colonizer','plotted']\n",
    "singles = [stemmer.stem(plural) for plural in original_words]\n",
    "pd.DataFrame(data = {'original word': original_words, 'stemmed': singles})"
   ]
  },
  {
   "cell_type": "code",
   "execution_count": 7,
   "metadata": {},
   "outputs": [],
   "source": [
    "def lemmatize_stemming(text):\n",
    "    return stemmer.stem(WordNetLemmatizer().lemmatize(text, pos='v'))\n",
    "def preprocess(text):\n",
    "    result = []\n",
    "    for token in gensim.utils.simple_preprocess(text):\n",
    "        if token not in gensim.parsing.preprocessing.STOPWORDS and len(token) > 3:\n",
    "            result.append(lemmatize_stemming(token))\n",
    "    return result"
   ]
  },
  {
   "cell_type": "code",
   "execution_count": 8,
   "metadata": {},
   "outputs": [
    {
     "name": "stdout",
     "output_type": "stream",
     "text": [
      "original document: \n",
      "['ratepayers', 'group', 'wants', 'compulsory', 'local', 'govt', 'voting']\n",
      "\n",
      "\n",
      " tokenized and lemmatized document: \n",
      "['ratepay', 'group', 'want', 'compulsori', 'local', 'govt', 'vote']\n"
     ]
    }
   ],
   "source": [
    "doc_sample = documents[documents['index'] == 4310].values[0][0]\n",
    "print('original document: ')\n",
    "words = []\n",
    "for word in doc_sample.split(' '):\n",
    "    words.append(word)\n",
    "print(words)\n",
    "print('\\n\\n tokenized and lemmatized document: ')\n",
    "print(preprocess(doc_sample))"
   ]
  },
  {
   "cell_type": "code",
   "execution_count": 9,
   "metadata": {},
   "outputs": [],
   "source": [
    "processed_docs = documents['headline_text'].map(preprocess)"
   ]
  },
  {
   "cell_type": "code",
   "execution_count": 10,
   "metadata": {},
   "outputs": [],
   "source": [
    "dictionary = gensim.corpora.Dictionary(processed_docs)"
   ]
  },
  {
   "cell_type": "code",
   "execution_count": 11,
   "metadata": {},
   "outputs": [
    {
     "name": "stdout",
     "output_type": "stream",
     "text": [
      "0 broadcast\n",
      "1 communiti\n",
      "2 decid\n",
      "3 licenc\n",
      "4 awar\n",
      "5 defam\n",
      "6 wit\n",
      "7 call\n",
      "8 infrastructur\n",
      "9 protect\n",
      "10 summit\n"
     ]
    }
   ],
   "source": [
    "count = 0\n",
    "for k, v in dictionary.iteritems():\n",
    "    print(k, v)\n",
    "    count += 1\n",
    "    if count > 10:\n",
    "        break"
   ]
  },
  {
   "cell_type": "code",
   "execution_count": 12,
   "metadata": {},
   "outputs": [],
   "source": [
    "dictionary.filter_extremes(no_below=15, no_above=0.5, keep_n=100000)"
   ]
  },
  {
   "cell_type": "code",
   "execution_count": 13,
   "metadata": {},
   "outputs": [
    {
     "data": {
      "text/plain": [
       "[(162, 1), (240, 1), (292, 1), (589, 1), (838, 1), (3567, 1), (3568, 1)]"
      ]
     },
     "execution_count": 13,
     "metadata": {},
     "output_type": "execute_result"
    }
   ],
   "source": [
    "bow_corpus = [dictionary.doc2bow(doc) for doc in processed_docs]\n",
    "bow_corpus[4310]"
   ]
  },
  {
   "cell_type": "code",
   "execution_count": 14,
   "metadata": {},
   "outputs": [
    {
     "name": "stdout",
     "output_type": "stream",
     "text": [
      "Word 162 (\"govt\") appears 1 time.\n",
      "Word 240 (\"group\") appears 1 time.\n",
      "Word 292 (\"vote\") appears 1 time.\n",
      "Word 589 (\"local\") appears 1 time.\n",
      "Word 838 (\"want\") appears 1 time.\n",
      "Word 3567 (\"compulsori\") appears 1 time.\n",
      "Word 3568 (\"ratepay\") appears 1 time.\n"
     ]
    }
   ],
   "source": [
    "bow_doc_4310 = bow_corpus[4310]\n",
    "\n",
    "for i in range(len(bow_doc_4310)):\n",
    "    print(\"Word {} (\\\"{}\\\") appears {} time.\".format(bow_doc_4310[i][0], \n",
    "                                                     dictionary[bow_doc_4310[i][0]], \n",
    "                                                     bow_doc_4310[i][1]))"
   ]
  },
  {
   "cell_type": "code",
   "execution_count": 15,
   "metadata": {},
   "outputs": [],
   "source": [
    "from gensim import corpora, models\n",
    "\n",
    "tfidf = models.TfidfModel(bow_corpus)"
   ]
  },
  {
   "cell_type": "code",
   "execution_count": 16,
   "metadata": {},
   "outputs": [],
   "source": [
    "corpus_tfidf = tfidf[bow_corpus]"
   ]
  },
  {
   "cell_type": "code",
   "execution_count": 17,
   "metadata": {},
   "outputs": [
    {
     "name": "stdout",
     "output_type": "stream",
     "text": [
      "[(0, 0.5850076620505259),\n",
      " (1, 0.38947256567331934),\n",
      " (2, 0.4997099083387053),\n",
      " (3, 0.5063271308533074)]\n"
     ]
    }
   ],
   "source": [
    "from pprint import pprint\n",
    "\n",
    "for doc in corpus_tfidf:\n",
    "    pprint(doc)\n",
    "    break"
   ]
  },
  {
   "cell_type": "code",
   "execution_count": 18,
   "metadata": {},
   "outputs": [],
   "source": [
    "lda_model = gensim.models.LdaMulticore(bow_corpus, num_topics=10, id2word=dictionary, passes=2, workers=2)"
   ]
  },
  {
   "cell_type": "code",
   "execution_count": 19,
   "metadata": {},
   "outputs": [
    {
     "name": "stdout",
     "output_type": "stream",
     "text": [
      "Topic: 0 \n",
      "Words: 0.025*\"south\" + 0.025*\"hous\" + 0.022*\"north\" + 0.019*\"bushfir\" + 0.018*\"miss\" + 0.017*\"hospit\" + 0.016*\"investig\" + 0.014*\"west\" + 0.012*\"dead\" + 0.012*\"coast\"\n",
      "Topic: 1 \n",
      "Words: 0.032*\"kill\" + 0.023*\"shoot\" + 0.019*\"attack\" + 0.017*\"bank\" + 0.015*\"protest\" + 0.015*\"polic\" + 0.014*\"offic\" + 0.013*\"assault\" + 0.013*\"chines\" + 0.011*\"michael\"\n",
      "Topic: 2 \n",
      "Words: 0.058*\"australia\" + 0.047*\"australian\" + 0.027*\"world\" + 0.018*\"canberra\" + 0.017*\"test\" + 0.015*\"island\" + 0.011*\"open\" + 0.011*\"farm\" + 0.011*\"win\" + 0.011*\"return\"\n",
      "Topic: 3 \n",
      "Words: 0.031*\"polic\" + 0.029*\"charg\" + 0.026*\"court\" + 0.024*\"murder\" + 0.019*\"death\" + 0.017*\"face\" + 0.016*\"alleg\" + 0.016*\"woman\" + 0.015*\"jail\" + 0.015*\"accus\"\n",
      "Topic: 4 \n",
      "Words: 0.017*\"say\" + 0.017*\"chang\" + 0.014*\"speak\" + 0.014*\"power\" + 0.013*\"interview\" + 0.012*\"worker\" + 0.011*\"climat\" + 0.011*\"concern\" + 0.011*\"polit\" + 0.010*\"flood\"\n",
      "Topic: 5 \n",
      "Words: 0.022*\"market\" + 0.020*\"news\" + 0.019*\"women\" + 0.018*\"live\" + 0.013*\"rise\" + 0.013*\"high\" + 0.013*\"price\" + 0.012*\"lose\" + 0.012*\"break\" + 0.012*\"street\"\n",
      "Topic: 6 \n",
      "Words: 0.034*\"elect\" + 0.018*\"water\" + 0.017*\"state\" + 0.015*\"tasmanian\" + 0.011*\"liber\" + 0.011*\"morrison\" + 0.011*\"labor\" + 0.010*\"game\" + 0.010*\"turn\" + 0.010*\"campaign\"\n",
      "Topic: 7 \n",
      "Words: 0.019*\"donald\" + 0.014*\"nation\" + 0.014*\"farmer\" + 0.014*\"plan\" + 0.013*\"rural\" + 0.013*\"time\" + 0.012*\"council\" + 0.012*\"indigen\" + 0.011*\"help\" + 0.011*\"school\"\n",
      "Topic: 8 \n",
      "Words: 0.044*\"trump\" + 0.036*\"year\" + 0.035*\"sydney\" + 0.027*\"queensland\" + 0.021*\"adelaid\" + 0.017*\"perth\" + 0.016*\"brisban\" + 0.015*\"peopl\" + 0.015*\"royal\" + 0.012*\"abus\"\n",
      "Topic: 9 \n",
      "Words: 0.030*\"govern\" + 0.018*\"feder\" + 0.016*\"warn\" + 0.014*\"countri\" + 0.014*\"fund\" + 0.014*\"claim\" + 0.014*\"health\" + 0.014*\"life\" + 0.013*\"say\" + 0.012*\"stori\"\n"
     ]
    }
   ],
   "source": [
    "for idx, topic in lda_model.print_topics(-1):\n",
    "    print('Topic: {} \\nWords: {}'.format(idx, topic))"
   ]
  },
  {
   "cell_type": "code",
   "execution_count": 20,
   "metadata": {},
   "outputs": [],
   "source": [
    "lda_model_tfidf = gensim.models.LdaMulticore(corpus_tfidf, num_topics=10, id2word=dictionary, passes=2, workers=4)"
   ]
  },
  {
   "cell_type": "code",
   "execution_count": 21,
   "metadata": {},
   "outputs": [
    {
     "name": "stdout",
     "output_type": "stream",
     "text": [
      "Topic: 0 Word: 0.017*\"charg\" + 0.017*\"polic\" + 0.014*\"murder\" + 0.011*\"court\" + 0.010*\"woman\" + 0.010*\"alleg\" + 0.010*\"jail\" + 0.009*\"death\" + 0.009*\"arrest\" + 0.008*\"shoot\"\n",
      "Topic: 1 Word: 0.012*\"govern\" + 0.010*\"rural\" + 0.008*\"elect\" + 0.008*\"nation\" + 0.007*\"health\" + 0.007*\"fund\" + 0.006*\"budget\" + 0.006*\"say\" + 0.006*\"feder\" + 0.006*\"labor\"\n",
      "Topic: 2 Word: 0.013*\"coast\" + 0.013*\"south\" + 0.013*\"north\" + 0.010*\"australia\" + 0.009*\"gold\" + 0.008*\"west\" + 0.007*\"christma\" + 0.007*\"korea\" + 0.007*\"sport\" + 0.006*\"festiv\"\n",
      "Topic: 3 Word: 0.009*\"john\" + 0.008*\"leagu\" + 0.007*\"cricket\" + 0.007*\"rugbi\" + 0.006*\"australia\" + 0.006*\"syria\" + 0.005*\"shorten\" + 0.005*\"thousand\" + 0.005*\"world\" + 0.004*\"final\"\n",
      "Topic: 4 Word: 0.013*\"stori\" + 0.008*\"search\" + 0.006*\"social\" + 0.006*\"tree\" + 0.006*\"ash\" + 0.006*\"alan\" + 0.006*\"territori\" + 0.006*\"america\" + 0.006*\"northern\" + 0.006*\"wild\"\n",
      "Topic: 5 Word: 0.018*\"donald\" + 0.016*\"drum\" + 0.010*\"tuesday\" + 0.010*\"monday\" + 0.006*\"hong\" + 0.006*\"kong\" + 0.005*\"bail\" + 0.005*\"world\" + 0.005*\"johnson\" + 0.005*\"best\"\n",
      "Topic: 6 Word: 0.020*\"countri\" + 0.015*\"hour\" + 0.012*\"live\" + 0.009*\"thursday\" + 0.007*\"violenc\" + 0.006*\"action\" + 0.006*\"farm\" + 0.006*\"domest\" + 0.006*\"june\" + 0.006*\"result\"\n",
      "Topic: 7 Word: 0.030*\"trump\" + 0.010*\"market\" + 0.009*\"share\" + 0.008*\"david\" + 0.008*\"morrison\" + 0.008*\"wall\" + 0.008*\"scott\" + 0.007*\"juli\" + 0.007*\"australian\" + 0.006*\"octob\"\n",
      "Topic: 8 Word: 0.013*\"royal\" + 0.010*\"friday\" + 0.010*\"commiss\" + 0.008*\"sexual\" + 0.007*\"tasmanian\" + 0.006*\"jam\" + 0.006*\"kid\" + 0.006*\"track\" + 0.006*\"cancer\" + 0.006*\"footag\"\n",
      "Topic: 9 Word: 0.017*\"news\" + 0.009*\"crash\" + 0.009*\"queensland\" + 0.008*\"weather\" + 0.008*\"kill\" + 0.008*\"turnbul\" + 0.007*\"michael\" + 0.007*\"hill\" + 0.007*\"climat\" + 0.007*\"bushfir\"\n"
     ]
    }
   ],
   "source": [
    "for idx, topic in lda_model_tfidf.print_topics(-1):\n",
    "    print('Topic: {} Word: {}'.format(idx, topic))"
   ]
  },
  {
   "cell_type": "code",
   "execution_count": 22,
   "metadata": {},
   "outputs": [
    {
     "name": "stdout",
     "output_type": "stream",
     "text": [
      "\n",
      "Score: 0.7252238392829895\t \n",
      "Topic: 0.012*\"govern\" + 0.010*\"rural\" + 0.008*\"elect\" + 0.008*\"nation\" + 0.007*\"health\" + 0.007*\"fund\" + 0.006*\"budget\" + 0.006*\"say\" + 0.006*\"feder\" + 0.006*\"labor\"\n",
      "\n",
      "Score: 0.17474038898944855\t \n",
      "Topic: 0.030*\"trump\" + 0.010*\"market\" + 0.009*\"share\" + 0.008*\"david\" + 0.008*\"morrison\" + 0.008*\"wall\" + 0.008*\"scott\" + 0.007*\"juli\" + 0.007*\"australian\" + 0.006*\"octob\"\n",
      "\n",
      "Score: 0.012504851445555687\t \n",
      "Topic: 0.020*\"countri\" + 0.015*\"hour\" + 0.012*\"live\" + 0.009*\"thursday\" + 0.007*\"violenc\" + 0.006*\"action\" + 0.006*\"farm\" + 0.006*\"domest\" + 0.006*\"june\" + 0.006*\"result\"\n",
      "\n",
      "Score: 0.012504762038588524\t \n",
      "Topic: 0.013*\"stori\" + 0.008*\"search\" + 0.006*\"social\" + 0.006*\"tree\" + 0.006*\"ash\" + 0.006*\"alan\" + 0.006*\"territori\" + 0.006*\"america\" + 0.006*\"northern\" + 0.006*\"wild\"\n",
      "\n",
      "Score: 0.012504600919783115\t \n",
      "Topic: 0.013*\"royal\" + 0.010*\"friday\" + 0.010*\"commiss\" + 0.008*\"sexual\" + 0.007*\"tasmanian\" + 0.006*\"jam\" + 0.006*\"kid\" + 0.006*\"track\" + 0.006*\"cancer\" + 0.006*\"footag\"\n",
      "\n",
      "Score: 0.01250444259494543\t \n",
      "Topic: 0.009*\"john\" + 0.008*\"leagu\" + 0.007*\"cricket\" + 0.007*\"rugbi\" + 0.006*\"australia\" + 0.006*\"syria\" + 0.005*\"shorten\" + 0.005*\"thousand\" + 0.005*\"world\" + 0.004*\"final\"\n",
      "\n",
      "Score: 0.012504322454333305\t \n",
      "Topic: 0.013*\"coast\" + 0.013*\"south\" + 0.013*\"north\" + 0.010*\"australia\" + 0.009*\"gold\" + 0.008*\"west\" + 0.007*\"christma\" + 0.007*\"korea\" + 0.007*\"sport\" + 0.006*\"festiv\"\n",
      "\n",
      "Score: 0.012504292652010918\t \n",
      "Topic: 0.018*\"donald\" + 0.016*\"drum\" + 0.010*\"tuesday\" + 0.010*\"monday\" + 0.006*\"hong\" + 0.006*\"kong\" + 0.005*\"bail\" + 0.005*\"world\" + 0.005*\"johnson\" + 0.005*\"best\"\n",
      "\n",
      "Score: 0.012504280544817448\t \n",
      "Topic: 0.017*\"news\" + 0.009*\"crash\" + 0.009*\"queensland\" + 0.008*\"weather\" + 0.008*\"kill\" + 0.008*\"turnbul\" + 0.007*\"michael\" + 0.007*\"hill\" + 0.007*\"climat\" + 0.007*\"bushfir\"\n",
      "\n",
      "Score: 0.012504243291914463\t \n",
      "Topic: 0.017*\"charg\" + 0.017*\"polic\" + 0.014*\"murder\" + 0.011*\"court\" + 0.010*\"woman\" + 0.010*\"alleg\" + 0.010*\"jail\" + 0.009*\"death\" + 0.009*\"arrest\" + 0.008*\"shoot\"\n"
     ]
    }
   ],
   "source": [
    "for index, score in sorted(lda_model_tfidf[bow_corpus[4310]], key=lambda tup: -1*tup[1]):\n",
    "    print(\"\\nScore: {}\\t \\nTopic: {}\".format(score, lda_model_tfidf.print_topic(index, 10)))"
   ]
  },
  {
   "cell_type": "code",
   "execution_count": 23,
   "metadata": {},
   "outputs": [
    {
     "name": "stdout",
     "output_type": "stream",
     "text": [
      "Score: 0.41942426562309265\t Topic: 0.022*\"market\" + 0.020*\"news\" + 0.019*\"women\" + 0.018*\"live\" + 0.013*\"rise\"\n",
      "Score: 0.28086942434310913\t Topic: 0.017*\"say\" + 0.017*\"chang\" + 0.014*\"speak\" + 0.014*\"power\" + 0.013*\"interview\"\n",
      "Score: 0.1829468011856079\t Topic: 0.031*\"polic\" + 0.029*\"charg\" + 0.026*\"court\" + 0.024*\"murder\" + 0.019*\"death\"\n",
      "Score: 0.01668371632695198\t Topic: 0.034*\"elect\" + 0.018*\"water\" + 0.017*\"state\" + 0.015*\"tasmanian\" + 0.011*\"liber\"\n",
      "Score: 0.01668291725218296\t Topic: 0.019*\"donald\" + 0.014*\"nation\" + 0.014*\"farmer\" + 0.014*\"plan\" + 0.013*\"rural\"\n",
      "Score: 0.016680052503943443\t Topic: 0.025*\"south\" + 0.025*\"hous\" + 0.022*\"north\" + 0.019*\"bushfir\" + 0.018*\"miss\"\n",
      "Score: 0.016679983586072922\t Topic: 0.030*\"govern\" + 0.018*\"feder\" + 0.016*\"warn\" + 0.014*\"countri\" + 0.014*\"fund\"\n",
      "Score: 0.016677621752023697\t Topic: 0.032*\"kill\" + 0.023*\"shoot\" + 0.019*\"attack\" + 0.017*\"bank\" + 0.015*\"protest\"\n",
      "Score: 0.016677621752023697\t Topic: 0.058*\"australia\" + 0.047*\"australian\" + 0.027*\"world\" + 0.018*\"canberra\" + 0.017*\"test\"\n",
      "Score: 0.016677621752023697\t Topic: 0.044*\"trump\" + 0.036*\"year\" + 0.035*\"sydney\" + 0.027*\"queensland\" + 0.021*\"adelaid\"\n"
     ]
    }
   ],
   "source": [
    "unseen_document = 'How a Pentagon deal became an identity crisis for Google'\n",
    "bow_vector = dictionary.doc2bow(preprocess(unseen_document))\n",
    "\n",
    "for index, score in sorted(lda_model[bow_vector], key=lambda tup: -1*tup[1]):\n",
    "    print(\"Score: {}\\t Topic: {}\".format(score, lda_model.print_topic(index, 5)))"
   ]
  },
  {
   "cell_type": "code",
   "execution_count": null,
   "metadata": {},
   "outputs": [],
   "source": []
  }
 ],
 "metadata": {
  "kernelspec": {
   "display_name": "Python 3",
   "language": "python",
   "name": "python3"
  },
  "language_info": {
   "codemirror_mode": {
    "name": "ipython",
    "version": 3
   },
   "file_extension": ".py",
   "mimetype": "text/x-python",
   "name": "python",
   "nbconvert_exporter": "python",
   "pygments_lexer": "ipython3",
   "version": "3.7.6"
  }
 },
 "nbformat": 4,
 "nbformat_minor": 2
}
